{
 "cells": [
  {
   "cell_type": "code",
   "execution_count": 2,
   "metadata": {},
   "outputs": [
    {
     "name": "stdout",
     "output_type": "stream",
     "text": [
      "Requirement already satisfied: numpy in c:\\users\\user\\appdata\\local\\programs\\python\\python312\\lib\\site-packages (2.2.0)\n",
      "Note: you may need to restart the kernel to use updated packages.\n"
     ]
    }
   ],
   "source": [
    "pip install numpy"
   ]
  },
  {
   "cell_type": "code",
   "execution_count": 3,
   "metadata": {},
   "outputs": [
    {
     "name": "stdout",
     "output_type": "stream",
     "text": [
      "[ 1  2  3  4  5  6  7  8  9 10]\n",
      "ndum:  1\n",
      "(10,)\n",
      "int64\n",
      "size:  10\n"
     ]
    }
   ],
   "source": [
    "# 1. 다음은 1부터 10까지 1차원 배열을 생성하고 배열의 속성을 알아보는 프로그램이다.\n",
    "# 실행결과를 확인하고 빈칸에 가장 알맞은 속성을 작성하세요.\n",
    "import numpy as np\n",
    "\n",
    "arr = np.arange(1, 11)\n",
    "print(arr)\n",
    "print(\"ndum: \", arr.ndim)\n",
    "print(arr.shape)\n",
    "print(arr.dtype)\n",
    "print(\"size: \", arr.size)"
   ]
  },
  {
   "cell_type": "code",
   "execution_count": 4,
   "metadata": {},
   "outputs": [
    {
     "name": "stdout",
     "output_type": "stream",
     "text": [
      "2-1: [49 48 47 46 45 44 43 42 41 40 39 38 37 36 35 34 33 32 31 30 29 28 27 26\n",
      " 25 24 23 22 21 20 19 18 17 16 15 14 13 12 11 10]\n",
      "2-2: (np.float64(0.9956655504071522), np.float64(0.016557556577369126))\n",
      "2-3: [[0 1 2]\n",
      " [3 4 5]\n",
      " [6 7 8]]\n",
      "2-4: [[ 1  2  3  4  5  6]\n",
      " [ 7  8  9 10 11 12]\n",
      " [13 14 15 16 17 18]\n",
      " [19 20 21 22 23 24]]\n",
      "2-5: [[ 8  9 10 11]\n",
      " [14 15 16 17]]\n",
      "2-6: [[18 17 16 15 14 13]\n",
      " [24 23 22 21 20 19]]\n",
      "2-7: [ 2  4  6  8 10 12 14 16 18 20 22 24]\n",
      "2-8: [10 11 12 13 14 15 16 17 18 19 20]\n"
     ]
    }
   ],
   "source": [
    "# 2. 다음 각각의 문제들을 넘파이를 활용하여 해결해 보세요.\n",
    "\n",
    "## 길이 10~50인 벡터를 만들고 벡터를 반전시켜 출력해 보세요.\n",
    "arr = np.arange(10, 50)\n",
    "print(f\"2-1: {arr[::-1]}\")\n",
    "\n",
    "## 랜덤 값이 있는 10 x 10 배열을 만들고 최댓값과 최소값을 찾아보세요.\n",
    "arr2 = np.random.random(size=(10, 10))\n",
    "print(f\"2-2: {np.max(arr2), np.min(arr2)}\")\n",
    "\n",
    "## 0~8 범위의 값을 사용하여 3x3 배열을 생성해 보세요.\n",
    "arr3 = np.arange(9).reshape(3, 3)\n",
    "print(f\"2-3: {arr3}\")\n",
    "\n",
    "## 다음과 같이 1에서 24까지의 값을 가지는 4x6 크기의 2차원 행렬 arr을 생성해 보세요.\n",
    "arr4 = np.arange(1, 25).reshape(4, 6)\n",
    "print(f\"2-4: {arr4}\")\n",
    "\n",
    "## arr배열에 슬라이싱을 적용하여 다음과 같은 값을 가지는 배열을 생성해 보세요.\n",
    "print(f\"2-5: {arr4[1:3, 1:5]}\")\n",
    "\n",
    "## arr배열에 슬라이싱을 적용하여 다음과 같은 값을 가지는 배열을 생성해 보세요.\n",
    "print(f\"2-6: {arr4[2:, ::-1]}\")\n",
    "\n",
    "## arr배열에서 2의 배수만 출력해 보세요.\n",
    "print(f\"2-7: {arr4[(arr4 % 2 == 0)]}\")\n",
    "\n",
    "## arr배열에서 10부터 20까지의 값만 출력해 보세요.\n",
    "print(f\"2-8: {arr4[(arr4 >= 10) & (arr4 <= 20)]}\")"
   ]
  },
  {
   "cell_type": "code",
   "execution_count": 5,
   "metadata": {},
   "outputs": [
    {
     "name": "stdout",
     "output_type": "stream",
     "text": [
      "마지막 원소:  20\n",
      "모든 원소의 합:  210\n",
      "모든 원소의 평균:  10.5\n",
      "[[ 1  2  3  4]\n",
      " [ 5  6  7  8]\n",
      " [ 9 10 11 12]\n",
      " [13 14 15 16]\n",
      " [17 18 19 20]]\n"
     ]
    }
   ],
   "source": [
    "# 3. numpy 배열을 사용하여 1부터 20까지의 연속된 정수값을 가지는 1차원 배열을 생성하여\n",
    "# 실행 결과와 같이 출력되기 위해서 밑줄에 들어갈 알맞은 코드를 쓰세요.\n",
    "arr = np.arange(1, 21)\n",
    "print('마지막 원소: ', arr[-1])\n",
    "print('모든 원소의 합: ', arr.sum())\n",
    "print('모든 원소의 평균: ', arr.mean())\n",
    "new_arr = arr.reshape(5,4)\n",
    "print(new_arr)"
   ]
  },
  {
   "cell_type": "code",
   "execution_count": 7,
   "metadata": {},
   "outputs": [
    {
     "name": "stdout",
     "output_type": "stream",
     "text": [
      "인상된 금액 :  [300. 225. 270. 330. 375.]\n",
      "평균 금액 :  300.0\n",
      "평균이상인 원소 :  [300. 330. 375.]\n",
      "평균이상인 원수의 개수 :  3\n"
     ]
    }
   ],
   "source": [
    "# 4. 학생들의 근로 장학금이 numpy 배열에 저장되어 있다.\n",
    "# 이번 학기 학생들의 근호장착금을 1.5배 올려주려고 한다.\n",
    "# 다음은 인상된 근로장학금을 출력하고 근로장학금이 평균 근로장학금보다 많은 학생들의 근로장학금을 출력하고 원소의 수를 출력하는 프로그램이다.\n",
    "# 실행결과를 확인하고 빈칸에 가장 알맞은 답을 작성해 보세요.\n",
    "salary = [200, 150, 180, 220, 250]\n",
    "new_salary = np.array(salary, dtype=\"float64\") * 1.5\n",
    "print(\"인상된 금액 : \", new_salary)\n",
    "avg_salary = new_salary.mean()\n",
    "print(\"평균 금액 : \", avg_salary)\n",
    "result = new_salary >= avg_salary\n",
    "print(\"평균이상인 원소 : \", new_salary[result])\n",
    "print(\"평균이상인 원수의 개수 : \", new_salary[result].size)"
   ]
  }
 ],
 "metadata": {
  "kernelspec": {
   "display_name": "Python 3",
   "language": "python",
   "name": "python3"
  },
  "language_info": {
   "codemirror_mode": {
    "name": "ipython",
    "version": 3
   },
   "file_extension": ".py",
   "mimetype": "text/x-python",
   "name": "python",
   "nbconvert_exporter": "python",
   "pygments_lexer": "ipython3",
   "version": "3.12.8"
  }
 },
 "nbformat": 4,
 "nbformat_minor": 2
}

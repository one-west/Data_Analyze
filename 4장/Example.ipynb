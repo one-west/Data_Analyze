{
 "cells": [
  {
   "cell_type": "code",
   "execution_count": 1,
   "metadata": {},
   "outputs": [
    {
     "name": "stdout",
     "output_type": "stream",
     "text": [
      "Requirement already satisfied: numpy in c:\\users\\user\\appdata\\local\\programs\\python\\python312\\lib\\site-packages (2.2.0)\n",
      "Note: you may need to restart the kernel to use updated packages.\n"
     ]
    }
   ],
   "source": [
    "pip install numpy"
   ]
  },
  {
   "cell_type": "code",
   "execution_count": 1,
   "metadata": {},
   "outputs": [
    {
     "name": "stdout",
     "output_type": "stream",
     "text": [
      "[1 2 3 4 5]\n",
      "[1, 2, 3, 4, 5]\n"
     ]
    }
   ],
   "source": [
    "import numpy as np\n",
    "\n",
    "arr = np.array([1, 2, 3, 4, 5])\n",
    "print(arr)\n",
    "print([1, 2, 3, 4, 5])"
   ]
  },
  {
   "cell_type": "code",
   "execution_count": 3,
   "metadata": {},
   "outputs": [
    {
     "name": "stdout",
     "output_type": "stream",
     "text": [
      "[[1 2 3]\n",
      " [4 5 6]]\n"
     ]
    }
   ],
   "source": [
    "arr = np.array([[1, 2, 3], [4, 5, 6]])\n",
    "print(arr)"
   ]
  },
  {
   "cell_type": "code",
   "execution_count": 6,
   "metadata": {},
   "outputs": [
    {
     "name": "stdout",
     "output_type": "stream",
     "text": [
      "[0. 0. 0. 0. 0. 0. 0. 0. 0. 0.]\n",
      "[[1. 0. 0.]\n",
      " [0. 1. 0.]\n",
      " [0. 0. 1.]]\n"
     ]
    }
   ],
   "source": [
    "a = np.zeros(10)\n",
    "print(a)\n",
    "\n",
    "b = np.eye(3)\n",
    "print(b)"
   ]
  },
  {
   "cell_type": "code",
   "execution_count": 8,
   "metadata": {},
   "outputs": [
    {
     "name": "stdout",
     "output_type": "stream",
     "text": [
      "[ 1  4  7 10 13 16 19]\n"
     ]
    }
   ],
   "source": [
    "c = np.arange(1, 21, 3)  # 3번째 인자는 갭\n",
    "print(c)"
   ]
  },
  {
   "cell_type": "code",
   "execution_count": 10,
   "metadata": {},
   "outputs": [
    {
     "name": "stdout",
     "output_type": "stream",
     "text": [
      "[ 0.   2.5  5.   7.5 10. ]\n"
     ]
    }
   ],
   "source": [
    "# 데이터 분석 -> 통계 -> 그래프 -> 구간\n",
    "d = np.linspace(0, 10, 5)\n",
    "print(d)"
   ]
  },
  {
   "cell_type": "code",
   "execution_count": 178,
   "metadata": {},
   "outputs": [
    {
     "name": "stdout",
     "output_type": "stream",
     "text": [
      "0.19737235263506558\n",
      "[[5 5 1]\n",
      " [7 4 1]\n",
      " [3 8 1]]\n",
      "[-1.27223474 -0.04883755  0.73041212 -0.83674566 -0.91283256 -0.88700197\n",
      " -0.35689723 -0.10975633 -0.70801024  2.22188796]\n"
     ]
    }
   ],
   "source": [
    "e = np.random.random()\n",
    "print(e)\n",
    "\n",
    "e = np.random.randint(1, 10, [3, 3])\n",
    "print(e)\n",
    "\n",
    "e = np.random.randn(10)\n",
    "print(e)"
   ]
  },
  {
   "cell_type": "code",
   "execution_count": 185,
   "metadata": {},
   "outputs": [
    {
     "name": "stdout",
     "output_type": "stream",
     "text": [
      "[ 0  2  4  6  8 10]\n",
      "[False False False False False  True  True  True  True  True  True]\n",
      "[ 6  7  8  9 10]\n",
      "[ 0  1  2  3  4 10]\n",
      "[ 1  2  4  5  7  8 10]\n"
     ]
    }
   ],
   "source": [
    "f = np.arange(11)\n",
    "print(f[f % 2 == 0])\n",
    "five_up = f >= 5\n",
    "print(five_up)\n",
    "\n",
    "g = f[(f > 5) & (f < 11)]\n",
    "print(g)\n",
    "g = f[(f > 9) | (f < 5)]\n",
    "print(g)\n",
    "g = f[~(f % 3 == 0)]\n",
    "print(g)"
   ]
  },
  {
   "cell_type": "code",
   "execution_count": 194,
   "metadata": {},
   "outputs": [
    {
     "name": "stdout",
     "output_type": "stream",
     "text": [
      "[12 15 18]\n",
      "[ 6 15 24]\n"
     ]
    }
   ],
   "source": [
    "h = np.arange(1, 10).reshape(3, 3)\n",
    "# print(h.sum())\n",
    "# print(np.sum(h))\n",
    "print(h.sum(axis=0))  # [0] ~ [2] 행의 값을 더하기\n",
    "print(h.sum(axis=1))  # [0] ~ [2] 열의 값을 더하기"
   ]
  },
  {
   "cell_type": "code",
   "execution_count": 195,
   "metadata": {},
   "outputs": [
    {
     "name": "stdout",
     "output_type": "stream",
     "text": [
      "[2 3 4 5 6]\n",
      "[2 3 4 5 6]\n"
     ]
    }
   ],
   "source": [
    "# 브로드캐스팅 연산 사용 X\n",
    "x = np.array([1, 2, 3, 4, 5])\n",
    "y = np.array([1, 1, 1, 1, 1])\n",
    "print(x + y)\n",
    "# 브로드캐스팅 연산 사용 O\n",
    "y = 1\n",
    "print(x + y)"
   ]
  },
  {
   "cell_type": "code",
   "execution_count": 198,
   "metadata": {},
   "outputs": [
    {
     "name": "stdout",
     "output_type": "stream",
     "text": [
      "[[ 1  2  3  4  5  6]\n",
      " [ 7  8  9 10 11 12]\n",
      " [13 14 15 16 17 18]\n",
      " [19 20 21 22 23 24]]\n",
      "[[101 102 103 104 105 106]\n",
      " [107 108 109 110 111 112]\n",
      " [113 114 115 116 117 118]\n",
      " [119 120 121 122 123 124]]\n",
      "[[100 100 100 100 100 100]\n",
      " [100 100 100 100 100 100]\n",
      " [100 100 100 100 100 100]\n",
      " [100 100 100 100 100 100]]\n"
     ]
    }
   ],
   "source": [
    "a = np.arange(1, 25).reshape(4, 6)\n",
    "print(a)\n",
    "print(a + 100)  # 스칼라 배열(암시적)\n",
    "\n",
    "new_arr = np.full_like(a, 100)  # a와 같은 모양 + 100으로 구성\n",
    "print(a + new_arr)  # 스칼라 배열(명시적)"
   ]
  },
  {
   "cell_type": "code",
   "execution_count": 200,
   "metadata": {},
   "outputs": [
    {
     "name": "stdout",
     "output_type": "stream",
     "text": [
      "[[0 1 2 3 4]]\n",
      "[[0]\n",
      " [1]\n",
      " [2]\n",
      " [3]\n",
      " [4]]\n",
      "[[0 1 2 3 4]\n",
      " [1 2 3 4 5]\n",
      " [2 3 4 5 6]\n",
      " [3 4 5 6 7]\n",
      " [4 5 6 7 8]]\n"
     ]
    }
   ],
   "source": [
    "a = np.arange(5).reshape(1, 5)\n",
    "b = np.arange(5).reshape(5, 1)\n",
    "print(a)\n",
    "print(b)\n",
    "print(a + b)"
   ]
  }
 ],
 "metadata": {
  "kernelspec": {
   "display_name": "Python 3",
   "language": "python",
   "name": "python3"
  },
  "language_info": {
   "codemirror_mode": {
    "name": "ipython",
    "version": 3
   },
   "file_extension": ".py",
   "mimetype": "text/x-python",
   "name": "python",
   "nbconvert_exporter": "python",
   "pygments_lexer": "ipython3",
   "version": "3.12.8"
  }
 },
 "nbformat": 4,
 "nbformat_minor": 2
}

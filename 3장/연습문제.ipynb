{
 "cells": [
  {
   "cell_type": "code",
   "execution_count": 1,
   "metadata": {},
   "outputs": [
    {
     "name": "stdout",
     "output_type": "stream",
     "text": [
      "대림 학생은 댈미 대림에 재학 중이며, 연락처는 대림입니다.\n"
     ]
    }
   ],
   "source": [
    "# 1. 학교, 학과, 이름, 연락처를 입력받아 변수에 저장하여 출력하세요.\n",
    "school = input(\"학교: \")\n",
    "department = input(\"학과: \")\n",
    "name = input(\"이름: \")\n",
    "contact = input(\"연락처: \")\n",
    "print(f\"{name} 학생은 {school} {department}에 재학 중이며, 연락처는 {contact}입니다.\")"
   ]
  },
  {
   "cell_type": "code",
   "execution_count": null,
   "metadata": {},
   "outputs": [],
   "source": [
    "# 2. 이름과 출생연도를 입력받아 한국 나이를 출력하는 프로그램을 작성하세요.\n",
    "name = input(\"이름: \")\n",
    "birthYear = input(\"출생연도: \")\n",
    "print(f\"2024년 시점, {name}님의 한국 나이는 {2024-birthYear}입니다.\")"
   ]
  },
  {
   "cell_type": "code",
   "execution_count": 9,
   "metadata": {},
   "outputs": [
    {
     "name": "stdout",
     "output_type": "stream",
     "text": [
      "1월은 겨울\n"
     ]
    }
   ],
   "source": [
    "# 3. 월을 입력받아 계절을 출력하는 프로그램을 작성하세요.\n",
    "# 3 ~ 5월은 봄, 6 ~ 8월은 여름, 9 ~ 11월은 가을, 12 ~ 2월은 겨울\n",
    "month = int(input(\"월 입력: \"))\n",
    "\n",
    "if 3 <= month and month <= 5:\n",
    "    print(f\"{month}월은 봄\")\n",
    "elif 6 <= month and month <= 8:\n",
    "    print(f\"{month}월은 여름\")\n",
    "elif 9 <= month and month <= 11:\n",
    "    print(f\"{month}월은 가을\")\n",
    "elif month <= 12 and month <= 2 and month > 0:\n",
    "    print(f\"{month}월은 겨울\")\n",
    "else:\n",
    "    print(\"올바르지 않은 입력입니다.\")"
   ]
  },
  {
   "cell_type": "code",
   "execution_count": 11,
   "metadata": {},
   "outputs": [
    {
     "name": "stdout",
     "output_type": "stream",
     "text": [
      "불합격\n"
     ]
    }
   ],
   "source": [
    "# 4. 두 번의 점수를 입력받아 합격 및 불합격 여부를 출력하는 프로그램을 작성하세요.\n",
    "\n",
    "score1 = float(input(\"1차 점수 입력: \"))\n",
    "score2 = float(input(\"2차 점수 입력: \"))\n",
    "\n",
    "if ((score1 + score2 / 2.0) >= 70) and (score1 >= 50) and (score2 >= 50):\n",
    "    print(\"합격\")\n",
    "else:\n",
    "    print(\"불합격\")"
   ]
  },
  {
   "cell_type": "code",
   "execution_count": 22,
   "metadata": {},
   "outputs": [
    {
     "name": "stdout",
     "output_type": "stream",
     "text": [
      "<< 1~30 숫자 맞히기 게임 >>\n",
      "더 작은 숫자 입력!\n",
      "<< 1~30 숫자 맞히기 게임 >>\n",
      "더 작은 숫자 입력!\n",
      "<< 1~30 숫자 맞히기 게임 >>\n",
      "정답!!\n",
      "게임 종료\n"
     ]
    }
   ],
   "source": [
    "# 5. 컴퓨터가 생각한 1 ~ 30 사이의 숫자를 맞히는 게임 프로그램을 작성하세요.\n",
    "import random\n",
    "\n",
    "cpuNum = random.randint(1, 30)\n",
    "while True:\n",
    "    print(\"<< 1~30 숫자 맞히기 게임 >>\")\n",
    "    userNum = int(input(\"숫자 입력(종료 0): \"))\n",
    "\n",
    "    if userNum == 0:\n",
    "        break\n",
    "\n",
    "    if cpuNum == userNum:\n",
    "        print(\"정답!!\")\n",
    "        break\n",
    "    elif cpuNum > userNum:\n",
    "        print(\"더 큰 숫자 입력!\")\n",
    "    elif cpuNum < userNum:\n",
    "        print(\"더 작은 숫자 입력!\")\n",
    "    else:\n",
    "        print(\"오류: 1~30 사이의 숫자만 입력하세요!\")\n",
    "\n",
    "print(\"게임 종료\")"
   ]
  },
  {
   "cell_type": "code",
   "execution_count": 12,
   "metadata": {},
   "outputs": [
    {
     "name": "stdout",
     "output_type": "stream",
     "text": [
      "<< 생성된 로또 번호 >>\n",
      "[28, 8, 21, 22, 17, 16]\n"
     ]
    }
   ],
   "source": [
    "# 6. 행운의 로또 복권 번호를 생성하여 리스트에 저장한 후 출력하세요.\n",
    "\n",
    "import random\n",
    "\n",
    "lottoNum = []\n",
    "print(\"<< 생성된 로또 번호 >>\")\n",
    "while len(lottoNum) < 6:\n",
    "    num = random.randint(1, 45)\n",
    "    lottoNum.append(num)\n",
    "\n",
    "print(lottoNum)"
   ]
  },
  {
   "cell_type": "code",
   "execution_count": 3,
   "metadata": {},
   "outputs": [
    {
     "name": "stdout",
     "output_type": "stream",
     "text": [
      "타자게임 시작 (엔터 입력)\n",
      "문제 1 (종료 0): 그대라는 시\n",
      "맞음!!\n",
      "문제 2 (종료 0): 비의 랩소디\n",
      "틀림!! 다시!\n",
      "문제 3 (종료 0): 비의 랩소디\n",
      "맞음!!\n",
      "문제 4 (종료 0): 워커홀릭\n",
      "틀림!! 다시!\n",
      "문제 5 (종료 0): 워커홀릭\n",
      "맞음!!\n",
      "문제 6 (종료 0): 불구덩이든\n",
      "게임 종료\n"
     ]
    }
   ],
   "source": [
    "# 7. 타자 연습 게임 프로그램을 작성하세요.\n",
    "import random\n",
    "\n",
    "typingList = [\n",
    "    \"낙하\",\n",
    "    \"불구덩이든\",\n",
    "    \"워커홀릭\",\n",
    "    \"사계\",\n",
    "    \"그대라는 시\",\n",
    "    \"비의 랩소디\",\n",
    "]\n",
    "typingStr = random.choice(typingList)\n",
    "count = 1\n",
    "print(\"타자게임 시작 (엔터 입력)\")\n",
    "while True:\n",
    "    print(f\"문제 {count} (종료 0): {typingStr}\")\n",
    "    userTyping = input()\n",
    "    if userTyping == \"0\":\n",
    "        print(\"게임 종료\")\n",
    "        break\n",
    "    if typingStr == userTyping:\n",
    "        print(\"맞음!!\")\n",
    "        typingStr = random.choice(typingList)\n",
    "    else:\n",
    "        print(\"틀림!! 다시!\")\n",
    "    count += 1"
   ]
  },
  {
   "cell_type": "code",
   "execution_count": 21,
   "metadata": {},
   "outputs": [
    {
     "name": "stdout",
     "output_type": "stream",
     "text": [
      "<< MT 장소 투표 >>\n",
      "장소 : 대성리\n",
      "장소 : 춘천\n",
      "장소 : 을왕리\n",
      "장소 : 청평\n",
      "대성리:0표\n",
      "춘천:3표\n",
      "을왕리:1표\n",
      "청평:0표\n",
      "최다득표: 춘천 3표\n"
     ]
    }
   ],
   "source": [
    "# 8. MT 장소를 선정하기 위한 프로그램이다. 실행결과와 같이 MT 장소를 입력받아 딕셔너리에 저장한 후 투표 결과와 최다득표 MT 장소를 화면에 출력하세요.\n",
    "mtList = {\n",
    "    \"대성리\": 0,\n",
    "    \"춘천\": 0,\n",
    "    \"을왕리\": 0,\n",
    "    \"청평\": 0,\n",
    "}\n",
    "\n",
    "for i in range(4):\n",
    "    mt = input()\n",
    "    if mt in mtList:\n",
    "        mtList[mt] += 1\n",
    "    else:\n",
    "        print(f\"{mt}는 올바른 장소가 아닙니다.\")\n",
    "\n",
    "print(\"<< MT 장소 투표 >>\")\n",
    "for mt in mtList:\n",
    "    print(f\"장소 : {mt}\")\n",
    "\n",
    "for mt, value in mtList.items():\n",
    "    print(f\"{mt}:{value}표\")\n",
    "\n",
    "maxValue = max(mtList.values())\n",
    "maxMt = [mt for mt, value in mtList.items() if value == maxValue]\n",
    "print(f\"최다득표: {maxMt[0]} {maxValue}표\")"
   ]
  },
  {
   "cell_type": "code",
   "execution_count": null,
   "metadata": {},
   "outputs": [
    {
     "name": "stdout",
     "output_type": "stream",
     "text": [
      "Hoo oohoohoohooh\n",
      "\n",
      "Twinkle, twinkle, little star,\n",
      "How I wonder what you are!\n",
      "Up above the world so high,\n",
      "Like a diamond in the sky.\n",
      "Twinkle, twinkle, little star,\n",
      "How I wonder what you are!\n"
     ]
    }
   ],
   "source": [
    "# 9. 다음 파이썬 코드의 결과를 예측하세요.\n",
    "def print_lyrics():\n",
    "    print(\"Twinkle, twinkle, little star,\")\n",
    "    print(\"How I wonder what you are!\")\n",
    "    print(\"Up above the world so high,\")\n",
    "    print(\"Like a diamond in the sky.\")\n",
    "    print(\"Twinkle, twinkle, little star,\")\n",
    "    print(\"How I wonder what you are!\")\n",
    "\n",
    "\n",
    "print(\"Hoo\", \"ooh\" * 4)\n",
    "print()\n",
    "print_lyrics()"
   ]
  },
  {
   "cell_type": "code",
   "execution_count": 2,
   "metadata": {},
   "outputs": [
    {
     "name": "stdout",
     "output_type": "stream",
     "text": [
      "아메리카노: 3,000원\n"
     ]
    }
   ],
   "source": [
    "# 10. 사이렌오더를 통해 음료를 미리 예약하는 프로그램을 작성하세요.\n",
    "def price(menue: int):\n",
    "\n",
    "    if menue == 1:\n",
    "        return print(\"아메리카노: 3,000원\")\n",
    "    elif menue == 2:\n",
    "        return print(\"카페라떼 : 4,000원\")\n",
    "    elif menue == 3:\n",
    "        return print(\"바닐라라떼 : 4,500원\")\n",
    "    else:\n",
    "        print(\"잘못된 숫자를 입력했습니다.\")\n",
    "\n",
    "\n",
    "menue = int(input(\"메뉴선택(1:아메리카노/2:카페라떼/3:바닐라라떼) \"))\n",
    "price(menue)"
   ]
  },
  {
   "cell_type": "code",
   "execution_count": 15,
   "metadata": {},
   "outputs": [
    {
     "name": "stdout",
     "output_type": "stream",
     "text": [
      "['attention.png', 'ditto.jpg']\n"
     ]
    }
   ],
   "source": [
    "# 11. 다음 빈 곳에 알맞은 파이썬 코드를 작성하세요.\n",
    "## 확장자가 .jpg, .png인 이미지 파일만 출력되도록 람다 표현식을 사용한다.\n",
    "\n",
    "files = [\"report.hwp\", \"newJeans\", \"attention.png\", \"ditto.jpg\", \"address.xslx\"]\n",
    "print(list(filter(lambda file: file.endswith((\".png\", \".jpg\")), files)))"
   ]
  },
  {
   "cell_type": "code",
   "execution_count": 32,
   "metadata": {},
   "outputs": [
    {
     "name": "stdout",
     "output_type": "stream",
     "text": [
      "7월 평균기온은 23.0℃입니다.\n",
      "8월 평균기온은 28.2℃입니다.\n",
      "9월 평균기온은 21.9℃입니다.\n",
      "10월 평균기온은 16.6℃입니다.\n",
      "11월 평균기온은 11.0℃입니다.\n",
      "12월 평균기온은 3.1℃입니다.\n"
     ]
    }
   ],
   "source": [
    "# 12. 파일(weather.txt)에는 다음과 같은 형태로 하반기 기온에 대한 월별 최저기온과 최고기온이 저장되어 있다.\n",
    "# 파일 내용을 읽어서 월의 평균기온(최저기온과 최고기온)을 계산한 후에 실행 화면과 같이 출력하세요.\n",
    "f = open(\"weather.txt\")\n",
    "dataList = f.readlines()\n",
    "for data in dataList:\n",
    "    result = data.strip(\"\\n\").split(\",\")\n",
    "    avg = round((float(result[1]) + float(result[2])) / 2.0, 1)\n",
    "    print(f\"{result[0]}월 평균기온은 {avg}℃입니다.\")\n",
    "f.close()"
   ]
  },
  {
   "cell_type": "code",
   "execution_count": 83,
   "metadata": {},
   "outputs": [
    {
     "data": {
      "text/html": [
       "<div>\n",
       "<style scoped>\n",
       "    .dataframe tbody tr th:only-of-type {\n",
       "        vertical-align: middle;\n",
       "    }\n",
       "\n",
       "    .dataframe tbody tr th {\n",
       "        vertical-align: top;\n",
       "    }\n",
       "\n",
       "    .dataframe thead th {\n",
       "        text-align: right;\n",
       "    }\n",
       "</style>\n",
       "<table border=\"1\" class=\"dataframe\">\n",
       "  <thead>\n",
       "    <tr style=\"text-align: right;\">\n",
       "      <th></th>\n",
       "      <th>이름</th>\n",
       "      <th>연락처</th>\n",
       "      <th>이메일</th>\n",
       "    </tr>\n",
       "  </thead>\n",
       "  <tbody>\n",
       "    <tr>\n",
       "      <th>0</th>\n",
       "      <td>이순신</td>\n",
       "      <td>010-1234-1234</td>\n",
       "      <td>lee@test.com</td>\n",
       "    </tr>\n",
       "    <tr>\n",
       "      <th>1</th>\n",
       "      <td>강감찬</td>\n",
       "      <td>010-1111-1111</td>\n",
       "      <td>kang@test.com</td>\n",
       "    </tr>\n",
       "    <tr>\n",
       "      <th>2</th>\n",
       "      <td>홍길동</td>\n",
       "      <td>010-2222-2222</td>\n",
       "      <td>hong@test.com</td>\n",
       "    </tr>\n",
       "    <tr>\n",
       "      <th>3</th>\n",
       "      <td>정한서</td>\n",
       "      <td>010-9928-2667</td>\n",
       "      <td>jhs@naver.com</td>\n",
       "    </tr>\n",
       "  </tbody>\n",
       "</table>\n",
       "</div>"
      ],
      "text/plain": [
       "    이름            연락처            이메일\n",
       "0  이순신  010-1234-1234   lee@test.com\n",
       "1  강감찬  010-1111-1111  kang@test.com\n",
       "2  홍길동  010-2222-2222  hong@test.com\n",
       "3  정한서  010-9928-2667  jhs@naver.com"
      ]
     },
     "execution_count": 83,
     "metadata": {},
     "output_type": "execute_result"
    }
   ],
   "source": [
    "# 13. 임의의 엑셀 파일을 이용하여 다음 작업을 수행해 보세요.\n",
    "# - xlsx 파일을 읽어 데이터프레임으로 저장하여 확인한다.\n",
    "# - 데이터프레임 데이터를 생성하여 기존 데이터프레임에 추가한다.\n",
    "# - 하나로 합쳐진 데이터프레임 데이터를 xlsx 파일에 저장한다.\n",
    "import pandas as pd\n",
    "\n",
    "myFile = pd.read_excel(\"../resources/3장/my_addr.xlsx\")\n",
    "newDf = pd.DataFrame(\n",
    "    [[\"정한서\", \"010-9928-2667\", \"jhs@naver.com\"]], columns=myFile.columns\n",
    ")\n",
    "resultDf = pd.concat([myFile, newDf], ignore_index=True)\n",
    "resultDf.to_excel(\"../resources/3장/my_addr.xlsx\", index=False)\n",
    "resultDf"
   ]
  }
 ],
 "metadata": {
  "kernelspec": {
   "display_name": "Python 3",
   "language": "python",
   "name": "python3"
  },
  "language_info": {
   "codemirror_mode": {
    "name": "ipython",
    "version": 3
   },
   "file_extension": ".py",
   "mimetype": "text/x-python",
   "name": "python",
   "nbconvert_exporter": "python",
   "pygments_lexer": "ipython3",
   "version": "3.12.8"
  }
 },
 "nbformat": 4,
 "nbformat_minor": 2
}

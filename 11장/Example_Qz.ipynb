{
 "cells": [
  {
   "cell_type": "code",
   "execution_count": 27,
   "metadata": {},
   "outputs": [
    {
     "name": "stdout",
     "output_type": "stream",
     "text": [
      "date     datetime64[ns]\n",
      "price             int64\n",
      "dtype: object\n",
      "        date  price\n",
      "0 2023-01-01   1000\n",
      "1 2023-01-02   1200\n",
      "2 2023-01-03   1300\n",
      "<class 'pandas.core.frame.DataFrame'>\n",
      "DatetimeIndex: 3 entries, 2023-01-01 to 2023-01-03\n",
      "Data columns (total 1 columns):\n",
      " #   Column  Non-Null Count  Dtype\n",
      "---  ------  --------------  -----\n",
      " 0   price   3 non-null      int64\n",
      "dtypes: int64(1)\n",
      "memory usage: 48.0 bytes\n",
      "None\n"
     ]
    }
   ],
   "source": [
    "# 1. 실행결과를 확인하고 빈 곳을 채워 코드를 완성하세요.\n",
    "import pandas as pd\n",
    "import numpy as np\n",
    "\n",
    "# 데이터 프레임 생성\n",
    "df = pd.DataFrame(\n",
    "    {\"date\": [\"2023-01-01\", \"2023-01-02\", \"2023-01-03\"], \"price\": [1000, 1200, 1300]}\n",
    ")\n",
    "\n",
    "# date 컬럼을 datetime형으로 변환\n",
    "df[\"date\"] = pd.to_datetime(df[\"date\"])\n",
    "\n",
    "# 결과 확인\n",
    "print(df.dtypes)\n",
    "print(df)\n",
    "\n",
    "# date를 인덱스로 설정\n",
    "df.set_index('date', inplace=True)\n",
    "\n",
    "# 결과 확인\n",
    "print(df.info())"
   ]
  },
  {
   "cell_type": "code",
   "execution_count": 224,
   "metadata": {},
   "outputs": [
    {
     "name": "stdout",
     "output_type": "stream",
     "text": [
      "                     col\n",
      "2019-12-01 01:00:00    0\n",
      "2019-12-02 01:00:00    1\n",
      "2019-12-03 01:00:00    2\n",
      "2019-12-04 01:00:00    3\n",
      "2019-12-05 01:00:00    4\n",
      "             col\n",
      "2019-12-31  15.0\n",
      "2020-01-31  35.0\n"
     ]
    },
    {
     "name": "stderr",
     "output_type": "stream",
     "text": [
      "C:\\Users\\Public\\Documents\\ESTsoft\\CreatorTemp\\ipykernel_22548\\3998397191.py:11: FutureWarning: 'M' is deprecated and will be removed in a future version, please use 'ME' instead.\n",
      "  df_monthly = df.resample(\"M\").mean()\n"
     ]
    }
   ],
   "source": [
    "# 2. 실행결과를 확인하고 빈 곳을 채워 코드를 완성하세요.\n",
    "\n",
    "# 시계열 데이터 생성\n",
    "df_idx = pd.date_range(\"2019-12-01 01:00\", periods=40)\n",
    "df = pd.DataFrame(range(len(df_idx)), columns=[\"col\"], index=df_idx)\n",
    "\n",
    "# 결과 확인\n",
    "print(df.head())\n",
    "\n",
    "# 월단위로 재조정하기\n",
    "df_monthly = df.resample(\"M\").mean()\n",
    "print(df_monthly.head())"
   ]
  },
  {
   "cell_type": "code",
   "execution_count": 235,
   "metadata": {},
   "outputs": [
    {
     "name": "stdout",
     "output_type": "stream",
     "text": [
      "date\n",
      "2022-12-31     409\n",
      "2023-01-31    1273\n",
      "2023-02-28    1589\n",
      "2023-03-31    1531\n",
      "2023-04-30     144\n",
      "Freq: ME, Name: value, dtype: int32\n"
     ]
    },
    {
     "name": "stderr",
     "output_type": "stream",
     "text": [
      "C:\\Users\\Public\\Documents\\ESTsoft\\CreatorTemp\\ipykernel_22548\\35247098.py:12: FutureWarning: 'M' is deprecated and will be removed in a future version, please use 'ME' instead.\n",
      "  df_month = df.resample(\"M\").sum()\n"
     ]
    }
   ],
   "source": [
    "# 3. 2022년 12월 25일부터 100일 간격으로 날짜와 랜덤으로 생성된 값(value)을 가진 데이터프레임을 생성할 떄 빈곳을 채워 월별 price의 합계를 구하세요.\n",
    "\n",
    "df = pd.DataFrame(\n",
    "    {\n",
    "        \"date\": pd.date_range(\"2022-12-25\", periods=100, freq=\"D\"),\n",
    "        \"value\": np.random.randint(100, size=(100,)),\n",
    "    }\n",
    ")\n",
    "\n",
    "# 월별 price 합계 구하기\n",
    "df.set_index(\"date\", inplace=True)\n",
    "df_month = df.resample(\"M\").sum()\n",
    "print(df_month['value'])"
   ]
  },
  {
   "cell_type": "code",
   "execution_count": 272,
   "metadata": {},
   "outputs": [
    {
     "name": "stdout",
     "output_type": "stream",
     "text": [
      "2023-04-11    120.0\n",
      "2023-04-12    120.0\n",
      "Freq: D, Name: predicted_mean, dtype: float64\n"
     ]
    },
    {
     "name": "stderr",
     "output_type": "stream",
     "text": [
      "c:\\Python312\\Lib\\site-packages\\statsmodels\\tsa\\base\\tsa_model.py:473: ValueWarning: No frequency information was provided, so inferred frequency D will be used.\n",
      "  self._init_dates(dates, freq)\n"
     ]
    }
   ],
   "source": [
    "# 4. 다음 빈 곳을 채워 일별 상품 가격 데이터 셋에서 앞으로 2일 뒤의 바나나 가격을 예측하세요.\n",
    "from statsmodels.tsa.arima.model import ARIMA\n",
    "\n",
    "# 데이터프레임 생성\n",
    "data = pd.DataFrame(\n",
    "    {\n",
    "        \"date\": pd.date_range(\"20230101\", periods=100),\n",
    "        \"product\": [\"banana\"] * 50 + [\"apple\"] * 50,\n",
    "        \"price\": [100] * 50 + [120] * 50,\n",
    "    }\n",
    ")\n",
    "\n",
    "# 시계열 데이터 분석을 위해 인덱스를 날짜로 설정\n",
    "data.set_index(\"date\", inplace=True)\n",
    "\n",
    "# ARIMA 모델 학습\n",
    "model = ARIMA(data[\"price\"], order=(1, 1, 0))  # ARIMA(1,1,0) 모델\n",
    "model_fit = model.fit()\n",
    "\n",
    "# 이틀 예측 값 계산\n",
    "forecast = model_fit.forecast(steps=2)\n",
    "\n",
    "# 다음날 바나나 가격 출력\n",
    "print(forecast)"
   ]
  },
  {
   "cell_type": "code",
   "execution_count": 300,
   "metadata": {},
   "outputs": [
    {
     "name": "stdout",
     "output_type": "stream",
     "text": [
      "         Date        Open        High         Low       Close   Adj Close  \\\n",
      "0  2022-01-31  170.201500  172.447999  167.639500  169.861500  167.307754   \n",
      "1  2022-02-28  169.635262  171.585263  167.580524  169.830001  167.455284   \n",
      "2  2022-03-31  164.806956  167.164348  162.939131  165.310435  163.032566   \n",
      "3  2022-04-29  167.479001  169.518500  165.083002  166.820999  164.522314   \n",
      "4  2022-05-31  148.324286  150.950952  145.364284  148.430477  146.556107   \n",
      "\n",
      "         Volume       rtn          MA         MA1  \n",
      "0  1.054223e+08       NaN         NaN         NaN  \n",
      "1  8.565875e+07 -0.000185  169.845750         NaN  \n",
      "2  9.481740e+07 -0.026612  167.570218  168.333979  \n",
      "3  8.438978e+07  0.009138  166.065717  167.320478  \n",
      "4  1.143353e+08 -0.110241  157.625738  160.187304  \n"
     ]
    },
    {
     "name": "stderr",
     "output_type": "stream",
     "text": [
      "c:\\Python312\\Lib\\site-packages\\statsmodels\\tsa\\base\\tsa_model.py:473: ValueWarning: No frequency information was provided, so inferred frequency BME will be used.\n",
      "  self._init_dates(dates, freq)\n",
      "c:\\Python312\\Lib\\site-packages\\statsmodels\\tsa\\base\\tsa_model.py:473: ValueWarning: No frequency information was provided, so inferred frequency BME will be used.\n",
      "  self._init_dates(dates, freq)\n",
      "c:\\Python312\\Lib\\site-packages\\statsmodels\\tsa\\base\\tsa_model.py:473: ValueWarning: No frequency information was provided, so inferred frequency BME will be used.\n",
      "  self._init_dates(dates, freq)\n"
     ]
    },
    {
     "data": {
      "text/plain": [
       "<matplotlib.legend.Legend at 0x1bcddfd39e0>"
      ]
     },
     "execution_count": 300,
     "metadata": {},
     "output_type": "execute_result"
    },
    {
     "data": {
      "image/png": "[encoded data removed]",
      "text/plain": [
       "<Figure size 640x480 with 1 Axes>"
      ]
     },
     "metadata": {},
     "output_type": "display_data"
    }
   ],
   "source": [
    "# 5. 다음 실행결과를 확인하고, 2015년 1월부터 2021년 12월까지 월별 고장률이 기록된 데이터 셋을 분석하여 앞으로 2개월간의 고장률을 예측하는 코드를 작성하세요.\n",
    "import matplotlib.pyplot as plt\n",
    "import pandas as pd\n",
    "\n",
    "# 데이터 불러오기\n",
    "df = pd.read_csv(\"../resources/11장/apple_data.csv\")\n",
    "\n",
    "# 데이터 탐색\n",
    "print(df.head())\n",
    "\n",
    "# 시계열 데이터 분석을 위해 인덱스를 날짜로 설정\n",
    "df.set_index(\"Date\", inplace=True)\n",
    "\n",
    "# ARIMA(1,1,1) 모델 학습\n",
    "model = ARIMA(df[\"rtn\"], order=(1, 1, 1))\n",
    "model_fit = model.fit()\n",
    "\n",
    "# 10개월 고장률 데이터 예측\n",
    "forecast = model_fit.get_forecast(steps=10)\n",
    "\n",
    "# 예측 데이터 평균\n",
    "predict_y = forecast.predicted_mean.tolist()\n",
    "\n",
    "# 예측 데이터 최솟값\n",
    "conf_int = forecast.conf_int()\n",
    "pred_y_lower = conf_int['lower rtn'].tolist()  # 예측 값의 하한 (첫 번째 예측 값)\n",
    "\n",
    "# 예측 데이터 최댓값\n",
    "pred_y_upper = conf_int['upper rtn'].tolist()  # 예측 값의 상한 (두 번째 예측 값)\n",
    "\n",
    "# 모델이 예측한 최저 고장률 그래프\n",
    "plt.plot(pred_y_lower, color=\"red\")\n",
    "\n",
    "# 모델이 예측한 최고 고장률 그래프\n",
    "plt.plot(pred_y_upper, color=\"blue\")\n",
    "\n",
    "# 모델이 예측한 평균 고장률 그래프\n",
    "plt.plot(predict_y, color=\"black\")\n",
    "plt.legend(['low', 'max', 'predict'])"
   ]
  }
 ],
 "metadata": {
  "kernelspec": {
   "display_name": "Python 3",
   "language": "python",
   "name": "python3"
  },
  "language_info": {
   "codemirror_mode": {
    "name": "ipython",
    "version": 3
   },
   "file_extension": ".py",
   "mimetype": "text/x-python",
   "name": "python",
   "nbconvert_exporter": "python",
   "pygments_lexer": "ipython3",
   "version": "3.12.8"
  }
 },
 "nbformat": 4,
 "nbformat_minor": 2
}
